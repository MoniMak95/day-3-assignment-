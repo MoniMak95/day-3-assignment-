{
 "cells": [
  {
   "cell_type": "markdown",
   "id": "406670d7",
   "metadata": {},
   "source": [
    "## write a program to find max num among three float number."
   ]
  },
  {
   "cell_type": "code",
   "execution_count": 1,
   "id": "d1a9696c",
   "metadata": {},
   "outputs": [
    {
     "name": "stdout",
     "output_type": "stream",
     "text": [
      "enter 1st float num: 20.3\n",
      "enter 2nd float num: 40.6\n",
      "enter 3rd float num: 80.7\n",
      "80.7\n"
     ]
    }
   ],
   "source": [
    "num1= float(input(\"enter 1st float num: \"))\n",
    "num2= float(input(\"enter 2nd float num: \"))\n",
    "num3= float(input(\"enter 3rd float num: \"))\n",
    "\n",
    "if num1>num2:\n",
    "    print(num1)\n",
    "elif num2>num3:\n",
    "    print(num2)\n",
    "else:\n",
    "    print(num3)\n"
   ]
  },
  {
   "cell_type": "code",
   "execution_count": null,
   "id": "f1e5828a",
   "metadata": {},
   "outputs": [],
   "source": []
  }
 ],
 "metadata": {
  "kernelspec": {
   "display_name": "Python 3",
   "language": "python",
   "name": "python3"
  },
  "language_info": {
   "codemirror_mode": {
    "name": "ipython",
    "version": 3
   },
   "file_extension": ".py",
   "mimetype": "text/x-python",
   "name": "python",
   "nbconvert_exporter": "python",
   "pygments_lexer": "ipython3",
   "version": "3.8.8"
  }
 },
 "nbformat": 4,
 "nbformat_minor": 5
}
